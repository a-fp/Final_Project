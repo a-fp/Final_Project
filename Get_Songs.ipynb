{
 "cells": [
  {
   "cell_type": "code",
   "execution_count": 264,
   "metadata": {},
   "outputs": [],
   "source": [
    "import pandas as pd\n",
    "import requests"
   ]
  },
  {
   "cell_type": "code",
   "execution_count": 265,
   "metadata": {},
   "outputs": [],
   "source": [
    "def connect_spotify(client_id, client_secret, AUTH_URL):\n",
    "    # POST\n",
    "    auth_response = requests.post(AUTH_URL, {\n",
    "        'grant_type': 'client_credentials',\n",
    "        'client_id': client_id,\n",
    "        'client_secret': client_secret,\n",
    "    })\n",
    "    # convert the response to JSON\n",
    "    auth_response_data = auth_response.json()\n",
    "    # save the access token\n",
    "    access_token = auth_response_data['access_token']\n",
    "    return access_token"
   ]
  },
  {
   "cell_type": "code",
   "execution_count": 266,
   "metadata": {},
   "outputs": [],
   "source": [
    "client_id = 'CLIENT_ID'\n",
    "client_secret = 'CLIENT_SECRET'\n",
    "AUTH_URL = 'https://accounts.spotify.com/api/token'\n",
    "access_token = connect_spotify(client_id, client_secret, AUTH_URL)"
   ]
  },
  {
   "cell_type": "code",
   "execution_count": 267,
   "metadata": {},
   "outputs": [],
   "source": [
    "#Function to obtain the features.\n",
    "def song_features(track):\n",
    "    headers = {'Authorization': 'Bearer {token}'.format(token=access_token)}\n",
    "    BASE_URL = 'https://api.spotify.com/v1/'\n",
    "    track_id = track\n",
    "    r = requests.get(BASE_URL + 'audio-features/' + track_id, headers=headers)\n",
    "    response_features=r.json()\n",
    "    return pd.DataFrame([response_features])"
   ]
  },
  {
   "cell_type": "code",
   "execution_count": 268,
   "metadata": {},
   "outputs": [],
   "source": [
    "def get_id_songs(playlist):    \n",
    "    headers = {\n",
    "        'Authorization': 'Bearer {token}'.format(token=access_token)\n",
    "    }\n",
    "    BASE_URL = 'https://api.spotify.com/v1/'\n",
    "    r = requests.get(BASE_URL + 'playlists/'+playlist+'/', headers=headers)\n",
    "    response_tracks=r.json()\n",
    "    lst=[]\n",
    "    lst = [i['track']['id'] for i in response_tracks['tracks']['items']]\n",
    "    return(lst)\n"
   ]
  },
  {
   "cell_type": "code",
   "execution_count": 269,
   "metadata": {},
   "outputs": [],
   "source": [
    "def playlist_features(playlist):\n",
    "    songs = get_id_songs(playlist)\n",
    "    df_features = pd.DataFrame(columns=['danceability', 'energy', 'key', 'loudness', 'mode', 'speechiness',\n",
    "        'acousticness', 'instrumentalness', 'liveness', 'valence', 'tempo',\n",
    "        'type', 'id', 'uri', 'track_href', 'analysis_url', 'duration_ms',\n",
    "        'time_signature'])\n",
    "    for i in songs:\n",
    "        track=i\n",
    "        features = song_features(track)\n",
    "        total=[df_features, features]\n",
    "        df_features=pd.concat(total)\n",
    "    return df_features"
   ]
  },
  {
   "cell_type": "code",
   "execution_count": 158,
   "metadata": {},
   "outputs": [],
   "source": [
    "data_songs = pd.DataFrame()"
   ]
  },
  {
   "cell_type": "code",
   "execution_count": 251,
   "metadata": {},
   "outputs": [],
   "source": [
    "playlists1=['37i9dQZEVXbNG2KDcFcKOF',\n",
    "'37i9dQZEVXbJwoKy8qKpHG',\n",
    "'37i9dQZEVXbMDoHDwVN2tF',\n",
    "'37i9dQZEVXbNFJfN1Vw8d9',\n",
    "'37i9dQZF1DWUbj5dNZ89An',\n",
    "'37i9dQZF1DWV1PBrIG2weG',\n",
    "'37i9dQZF1DX8CTD7HWYPDn',\n",
    "'37i9dQZF1DX9Dh2wgiAwVX',\n",
    "'37i9dQZF1DX9CCxc3fffni']\n",
    "playlists2=['37i9dQZF1DWZqdNJSufucb',\n",
    "'37i9dQZF1DWTfrrcwZAlVH',\n",
    "'37i9dQZF1DWZMtkg0cMXbp',\n",
    "'37i9dQZF1DWTwnEm1IYyoj',\n",
    "'37i9dQZF1DX4WYpdgoIcn6',\n",
    "'37i9dQZF1DX4WELsJtFZjZ']\n",
    "playlists3=['37i9dQZF1DWXRqgorJj26U',\n",
    "'37i9dQZF1DX73CRmw4CiSI',\n",
    "'37i9dQZF1DWTf6wqAsYxqz',\n",
    "'37i9dQZF1DWWGFQLoP9qlv',\n",
    "'37i9dQZF1DX1rVvRgjX59F',\n",
    "'37i9dQZF1DX8FwnYE6PRvL']\n",
    "playlists4=['37i9dQZF1DX3oM43CtKnRV',\n",
    "'37i9dQZF1DX1spT6G94GFC',\n",
    "'37i9dQZF1DX4oL1xd4OWmV',\n",
    "'37i9dQZF1DX35DWKgAk2B5',\n",
    "'37i9dQZF1DXabkBRQmempy',\n",
    "'37i9dQZF1DWWsq4e0rDzty']\n",
    "playlists5=['37i9dQZF1DXaXB8fQg7xif',\n",
    "'37i9dQZF1DX6QbU3i33zqm',\n",
    "'37i9dQZF1DX0BcQWzuB7ZO',\n",
    "'37i9dQZF1DXcZDD7cfEKhW',\n",
    "'37i9dQZF1DX2R0a3scWaq6',\n",
    "'37i9dQZF1DWSf2RDTDayIx',\n",
    "'37i9dQZF1DWZ5Se2LB1C5h',\n",
    "'37i9dQZF1DX6VdMW310YC7']\n",
    "playlists6=['37i9dQZF1DX4dyzvuaRJ0n',\n",
    "'37i9dQZF1DX7D8GQsPKGvy',\n",
    "'37i9dQZF1DX82GYcclJ3Ug',\n",
    "'37i9dQZF1DXa71eg5j9dKZ']\n",
    "playlists7=['37i9dQZF1DXbTxeAdrVG2l',\n",
    "'37i9dQZF1DWTJ7xPn4vNaz',\n",
    "'37i9dQZF1DWWylYLMvjuRG',\n",
    "'37i9dQZF1DX6xnkAwJX7tn',\n",
    "'37i9dQZF1DWW7hJS3Xj96I',\n",
    "'37i9dQZF1DXbMYUPb05hjJ',\n",
    "'37i9dQZF1DX94QVAxB7Dum',\n",
    "'37i9dQZF1DXdo6A3mWpdWx']\n",
    "playlists8=['37i9dQZF1DX1Hya1sRqqxI',\n",
    "'37i9dQZF1DWSwFS0Z6E1ep',\n",
    "'37i9dQZF1DWWLS4T1o0HG9',\n",
    "'37i9dQZF1DXcytuPF2IzEB',\n",
    "'37i9dQZF1DX9H3lqBKp7yC',\n",
    "'37i9dQZF1DXaYcmHkNgQvC']\n",
    "playlists9=['37i9dQZF1DX7F6T2n2fegs',\n",
    "'37i9dQZF1DWSXAHZTiX76o',\n",
    "'37i9dQZF1DX0Uv9tZ47pWo',\n",
    "'37i9dQZF1DX7yThnpS6Pdp']\n",
    "playlists10=['37i9dQZF1DX3AdAEX3vkB1',\n",
    "'37i9dQZF1DWYE5MI4mMuii',\n",
    "'37i9dQZF1DXa8n42306eJB',\n",
    "'37i9dQZF1DX0IlCGIUGBsA',\n",
    "'37i9dQZF1DXaUDcU6KDCj4',\n",
    "'37i9dQZF1DWXJyjYpHunCf']\n",
    "playlists11=['37i9dQZF1DWSkMjlBZAZ07',\n",
    "'37i9dQZF1DXe5Q8muTQked',\n",
    "'37i9dQZF1DX9XIFQuFvzM4',\n",
    "'37i9dQZF1DWSrdTgewhgZq',\n",
    "'37i9dQZF1DWYmmr74INQlb',\n",
    "'37i9dQZF1DX70TzPK5buVf',\n",
    "'37i9dQZF1DX6VDO8a6cQME']\n",
    "playlists12=['37i9dQZF1DWTyiBJ6yEqeu',\n",
    "'37i9dQZF1DWSfv493aPhol',\n",
    "'37i9dQZF1DX3Ogo9pFvBkY',\n",
    "'37i9dQZF1DWUPafHP1BJw1',\n",
    "'37i9dQZF1DX5YTAi6JhwZm',\n",
    "'37i9dQZF1DXboGlPhJFIp9',\n",
    "'37i9dQZF1DX2T25mA6YJhO']\n",
    "playlists13=['37i9dQZF1DX4sWSpwq3LiO',\n",
    "'37i9dQZF1DX7aAuYd7Jogj',\n",
    "'37i9dQZF1DWZd79rJ6a7lp',\n",
    "'37i9dQZF1DX1UHxedJfnRM',\n",
    "'37i9dQZF1DX2piJKuRdKIA',\n",
    "'37i9dQZF1DX0ERdy9Swdy5']\n",
    "playlists14=['37i9dQZF1DWVxdmcl0VPos',\n",
    "'37i9dQZF1DWVJv1UsWItkB',\n",
    "'37i9dQZF1DX2lVtkHKv2NU',\n",
    "'37i9dQZF1DX1HCSfq0nSal',\n",
    "'37i9dQZF1DX2EiUAL7Wdfc',\n",
    "'37i9dQZF1DXaxEKcoCdWHD']\n",
    "playlists15=['37i9dQZF1DWUlCmB8llCTB',\n",
    "'37i9dQZF1DX8SfyqmSFDwe',\n",
    "'37i9dQZF1DXcd2Vmhfon1w',\n",
    "'37i9dQZF1DX02VHEKHGPPC',\n",
    "'37i9dQZF1DX186v583rmzp',\n",
    "'37i9dQZF1DX3sCT1ItXgNd',\n",
    "'37i9dQZF1DXcBWIGoYBM5M',\n",
    "'37i9dQZF1DWTyTiBbDrmml']\n",
    "playlists16=['37i9dQZF1DWSpF87bP6JSF',\n",
    "'37i9dQZF1DX1ngEVM0lKrb',\n",
    "'37i9dQZF1DX1blrxM1IcFI',\n",
    "'37i9dQZF1DX2rVwh3lcWku',\n",
    "'37i9dQZF1DX6JdAKMqGwZ5',\n",
    "'37i9dQZF1DXcUK8kkNqfRN',\n",
    "'37i9dQZF1DX40F1hlCueZ7',\n",
    "'37i9dQZF1DX2xhsrO0GW1M']\n",
    "playlists17=['37i9dQZF1DWUNNEvaozpW5',\n",
    "'37i9dQZF1DX8a1tdzq5tbM',\n",
    "'37i9dQZF1DX1Hya1sRqqxI',\n",
    "'37i9dQZF1DX4o1oenSJRJd',\n",
    "'37i9dQZF1DX4UtSsGT1Sbe',\n",
    "'37i9dQZF1DWU4xtX4v6Z9l',\n",
    "'37i9dQZF1DX3IplhwNexYg']\n",
    "playlists18=['37i9dQZF1DX8FwnYE6PRvL',\n",
    "'37i9dQZF1DWUq3wF0JVtEy',\n",
    "'37i9dQZF1DX1mddl0YFaZZ',\n",
    "'37i9dQZF1DXd1MXcE8WTXq',\n",
    "'37i9dQZF1DWVmps5U8gHNv',\n",
    "'37i9dQZF1DWV0gynK7G6pD',\n",
    "'37i9dQZF1DWWEJlAGA9gs0']"
   ]
  },
  {
   "cell_type": "code",
   "execution_count": 148,
   "metadata": {},
   "outputs": [],
   "source": [
    "for playlist in playlists1:\n",
    "    features=playlist_features(playlist)\n",
    "    data_songs = data_songs.append(features, ignore_index = True)\n"
   ]
  },
  {
   "cell_type": "code",
   "execution_count": 166,
   "metadata": {},
   "outputs": [],
   "source": [
    "for playlist in playlists2:\n",
    "    features=playlist_features(playlist)\n",
    "    data_songs = data_songs.append(features, ignore_index = True) \n"
   ]
  },
  {
   "cell_type": "code",
   "execution_count": 170,
   "metadata": {},
   "outputs": [],
   "source": [
    "for playlist in playlists3:\n",
    "    features=playlist_features(playlist)\n",
    "    data_songs = data_songs.append(features, ignore_index = True)"
   ]
  },
  {
   "cell_type": "code",
   "execution_count": 171,
   "metadata": {},
   "outputs": [],
   "source": [
    "for playlist in playlists4:\n",
    "    features=playlist_features(playlist)\n",
    "    data_songs = data_songs.append(features, ignore_index = True)"
   ]
  },
  {
   "cell_type": "code",
   "execution_count": 174,
   "metadata": {},
   "outputs": [],
   "source": [
    "for playlist in playlists5:\n",
    "    features=playlist_features(playlist)\n",
    "    data_songs = data_songs.append(features, ignore_index = True) "
   ]
  },
  {
   "cell_type": "code",
   "execution_count": 193,
   "metadata": {},
   "outputs": [],
   "source": [
    "for playlist in playlists6:\n",
    "    features=playlist_features(playlist)\n",
    "    data_songs = data_songs.append(features, ignore_index = True)"
   ]
  },
  {
   "cell_type": "code",
   "execution_count": 195,
   "metadata": {},
   "outputs": [],
   "source": [
    "for playlist in playlists7:\n",
    "    features=playlist_features(playlist)\n",
    "    data_songs = data_songs.append(features, ignore_index = True)"
   ]
  },
  {
   "cell_type": "code",
   "execution_count": 205,
   "metadata": {},
   "outputs": [],
   "source": [
    "for playlist in playlists8:\n",
    "    features=playlist_features(playlist)\n",
    "    data_songs = data_songs.append(features, ignore_index = True)"
   ]
  },
  {
   "cell_type": "code",
   "execution_count": 218,
   "metadata": {},
   "outputs": [],
   "source": [
    "for playlist in playlists9:\n",
    "    features=playlist_features(playlist)\n",
    "    data_songs = data_songs.append(features, ignore_index = True) "
   ]
  },
  {
   "cell_type": "code",
   "execution_count": 222,
   "metadata": {},
   "outputs": [],
   "source": [
    "for playlist in playlists10:\n",
    "    features=playlist_features(playlist)\n",
    "    data_songs = data_songs.append(features, ignore_index = True) "
   ]
  },
  {
   "cell_type": "code",
   "execution_count": 223,
   "metadata": {},
   "outputs": [],
   "source": [
    "for playlist in playlists11:\n",
    "    features=playlist_features(playlist)\n",
    "    data_songs = data_songs.append(features, ignore_index = True)"
   ]
  },
  {
   "cell_type": "code",
   "execution_count": 224,
   "metadata": {},
   "outputs": [],
   "source": [
    "for playlist in playlists12:\n",
    "    features=playlist_features(playlist)\n",
    "    data_songs = data_songs.append(features, ignore_index = True)"
   ]
  },
  {
   "cell_type": "code",
   "execution_count": 236,
   "metadata": {},
   "outputs": [],
   "source": [
    "for playlist in playlists13:\n",
    "    features=playlist_features(playlist)\n",
    "    data_songs = data_songs.append(features, ignore_index = True)"
   ]
  },
  {
   "cell_type": "code",
   "execution_count": 259,
   "metadata": {},
   "outputs": [],
   "source": [
    "for playlist in playlists14:\n",
    "    features=playlist_features(playlist)\n",
    "    data_songs = data_songs.append(features, ignore_index = True)"
   ]
  },
  {
   "cell_type": "code",
   "execution_count": 260,
   "metadata": {},
   "outputs": [],
   "source": [
    "for playlist in playlists15:\n",
    "    features=playlist_features(playlist)\n",
    "    data_songs = data_songs.append(features, ignore_index = True)"
   ]
  },
  {
   "cell_type": "code",
   "execution_count": 261,
   "metadata": {},
   "outputs": [],
   "source": [
    "for playlist in playlists16:\n",
    "    features=playlist_features(playlist)\n",
    "    data_songs = data_songs.append(features, ignore_index = True)"
   ]
  },
  {
   "cell_type": "code",
   "execution_count": 270,
   "metadata": {},
   "outputs": [],
   "source": [
    "for playlist in playlists17:\n",
    "    features=playlist_features(playlist)\n",
    "    data_songs = data_songs.append(features, ignore_index = True)"
   ]
  },
  {
   "cell_type": "code",
   "execution_count": 304,
   "metadata": {},
   "outputs": [],
   "source": [
    "data_songs.to_csv('datasets/data_songs.csv') \n"
   ]
  }
 ],
 "metadata": {
  "interpreter": {
   "hash": "144b12141f4e6ac2399227e01fbc2f19c1ff424447c073c54087a54170300a8c"
  },
  "kernelspec": {
   "display_name": "Python 3.7.13 ('proj_final')",
   "language": "python",
   "name": "python3"
  },
  "language_info": {
   "codemirror_mode": {
    "name": "ipython",
    "version": 3
   },
   "file_extension": ".py",
   "mimetype": "text/x-python",
   "name": "python",
   "nbconvert_exporter": "python",
   "pygments_lexer": "ipython3",
   "version": "3.7.13"
  },
  "orig_nbformat": 4
 },
 "nbformat": 4,
 "nbformat_minor": 2
}
