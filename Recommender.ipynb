{
 "cells": [
  {
   "cell_type": "code",
   "execution_count": 285,
   "id": "d4645950",
   "metadata": {},
   "outputs": [
    {
     "data": {
      "text/html": [
       "        <script type=\"text/javascript\">\n",
       "        window.PlotlyConfig = {MathJaxConfig: 'local'};\n",
       "        if (window.MathJax) {MathJax.Hub.Config({SVG: {font: \"STIX-Web\"}});}\n",
       "        if (typeof require !== 'undefined') {\n",
       "        require.undef(\"plotly\");\n",
       "        requirejs.config({\n",
       "            paths: {\n",
       "                'plotly': ['https://cdn.plot.ly/plotly-2.11.1.min']\n",
       "            }\n",
       "        });\n",
       "        require(['plotly'], function(Plotly) {\n",
       "            window._Plotly = Plotly;\n",
       "        });\n",
       "        }\n",
       "        </script>\n",
       "        "
      ]
     },
     "metadata": {},
     "output_type": "display_data"
    }
   ],
   "source": [
    "import numpy as np\n",
    "import pandas as pd\n",
    "import requests\n",
    "import matplotlib.pyplot as plt\n",
    "import cufflinks as cf\n",
    "cf.go_offline()\n",
    "\n",
    "# Scipy\n",
    "from scipy.spatial.distance import pdist, squareform\n",
    "\n",
    "#sklearn\n",
    "from sklearn.preprocessing import StandardScaler\n",
    "from sklearn.metrics.pairwise import linear_kernel\n",
    "\n",
    "#Librería Spotify\n",
    "import spotipy\n",
    "#from spotipy.oauth2 import SpotifyClientCredentials\n",
    "import spotipy.util as util \n"
   ]
  },
  {
   "cell_type": "code",
   "execution_count": 286,
   "id": "d14036ce",
   "metadata": {},
   "outputs": [],
   "source": [
    "def connect_spotify(client_id, client_secret, AUTH_URL):\n",
    "    # POST\n",
    "    auth_response = requests.post(AUTH_URL, {\n",
    "        'grant_type': 'client_credentials',\n",
    "        'client_id': client_id,\n",
    "        'client_secret': client_secret,\n",
    "    })\n",
    "    # convert the response to JSON\n",
    "    auth_response_data = auth_response.json()\n",
    "    # save the access token\n",
    "    access_token = auth_response_data['access_token']\n",
    "    return access_token"
   ]
  },
  {
   "cell_type": "code",
   "execution_count": 287,
   "id": "434610d8",
   "metadata": {},
   "outputs": [],
   "source": [
    "client_id = \n",
    "client_secret = \n",
    "AUTH_URL = \n",
    "redirect_uri=\n",
    "username=\n",
    "access_token = connect_spotify(client_id, client_secret, AUTH_URL)\n",
    "\n"
   ]
  },
  {
   "cell_type": "code",
   "execution_count": 288,
   "id": "c138c112",
   "metadata": {},
   "outputs": [],
   "source": [
    "#Acces to modify the playlist\n",
    "scope=\"playlist-modify-public\"\n",
    "\n",
    "token=util.prompt_for_user_token(username,scope,client_id=\"\",client_secret=\"\",redirect_uri=\"http://localhost:8080\")\n",
    "sp = spotipy.Spotify(auth=token)"
   ]
  },
  {
   "cell_type": "code",
   "execution_count": 289,
   "id": "850506da",
   "metadata": {},
   "outputs": [],
   "source": [
    "#Function to obtain the features of a song.\n",
    "def song_features(track):\n",
    "    headers = {'Authorization': 'Bearer {token}'.format(token=access_token)}\n",
    "    BASE_URL = 'https://api.spotify.com/v1/'\n",
    "    track_id = track\n",
    "    r = requests.get(BASE_URL + 'audio-features/' + track_id, headers=headers)\n",
    "    response_features=r.json()\n",
    "    return pd.DataFrame([response_features])"
   ]
  },
  {
   "cell_type": "code",
   "execution_count": 290,
   "id": "fd386144",
   "metadata": {},
   "outputs": [],
   "source": [
    "#Function to get the id's songs. \n",
    "def get_id_songs(playlist):    \n",
    "    headers = {\n",
    "        'Authorization': 'Bearer {token}'.format(token=access_token)\n",
    "    }\n",
    "    BASE_URL = 'https://api.spotify.com/v1/'\n",
    "    r = requests.get(BASE_URL + 'playlists/'+playlist+'/', headers=headers)\n",
    "    response_tracks=r.json()\n",
    "    lst=[]\n",
    "    lst = [i['track']['id'] for i in response_tracks['tracks']['items']]\n",
    "    return(lst)"
   ]
  },
  {
   "cell_type": "code",
   "execution_count": 291,
   "id": "61a314c9",
   "metadata": {},
   "outputs": [],
   "source": [
    "#Function to get the features of the songs from a playlist.\n",
    "def playlist_features(playlist):\n",
    "    songs = get_id_songs(playlist)\n",
    "    df_features = pd.DataFrame(columns=['danceability', 'energy', 'key', 'loudness', 'mode', 'speechiness',\n",
    "        'acousticness', 'instrumentalness', 'liveness', 'valence', 'tempo',\n",
    "        'type', 'id', 'uri', 'track_href', 'analysis_url', 'duration_ms',\n",
    "        'time_signature'])\n",
    "    for i in songs:\n",
    "        track=i\n",
    "        features = song_features(track)\n",
    "        total=[df_features, features]\n",
    "        df_features=pd.concat(total)\n",
    "    return df_features"
   ]
  },
  {
   "cell_type": "code",
   "execution_count": 292,
   "id": "b1174da6",
   "metadata": {},
   "outputs": [],
   "source": [
    "#Function to get the features of the songs from database.\n",
    "def all_playlist_features():\n",
    "    songs = get_id_songs(playlist)\n",
    "    global track \n",
    "    while track in songs: \n",
    "        songs.remove(track)\n",
    "    df_features = pd.DataFrame(columns=['danceability', 'energy', 'key', 'loudness', 'mode', 'speechiness',\n",
    "        'acousticness', 'instrumentalness', 'liveness', 'valence', 'tempo',\n",
    "        'type', 'id', 'uri', 'track_href', 'analysis_url', 'duration_ms',\n",
    "        'time_signature'])\n",
    "    for i in songs:\n",
    "        track=i\n",
    "        features = song_features(track)\n",
    "        total=[df_features, features]\n",
    "        df_features=pd.concat(total)\n",
    "    return df_features"
   ]
  },
  {
   "cell_type": "markdown",
   "id": "765b9755",
   "metadata": {},
   "source": [
    "New playlist with recommendations\n"
   ]
  },
  {
   "cell_type": "code",
   "execution_count": 293,
   "id": "31701c93",
   "metadata": {},
   "outputs": [
    {
     "data": {
      "text/html": [
       "<div>\n",
       "<style scoped>\n",
       "    .dataframe tbody tr th:only-of-type {\n",
       "        vertical-align: middle;\n",
       "    }\n",
       "\n",
       "    .dataframe tbody tr th {\n",
       "        vertical-align: top;\n",
       "    }\n",
       "\n",
       "    .dataframe thead th {\n",
       "        text-align: right;\n",
       "    }\n",
       "</style>\n",
       "<table border=\"1\" class=\"dataframe\">\n",
       "  <thead>\n",
       "    <tr style=\"text-align: right;\">\n",
       "      <th></th>\n",
       "      <th>danceability</th>\n",
       "      <th>energy</th>\n",
       "      <th>key</th>\n",
       "      <th>loudness</th>\n",
       "      <th>mode</th>\n",
       "      <th>speechiness</th>\n",
       "      <th>acousticness</th>\n",
       "      <th>instrumentalness</th>\n",
       "      <th>liveness</th>\n",
       "      <th>valence</th>\n",
       "      <th>tempo</th>\n",
       "      <th>time_signature</th>\n",
       "    </tr>\n",
       "    <tr>\n",
       "      <th>id</th>\n",
       "      <th></th>\n",
       "      <th></th>\n",
       "      <th></th>\n",
       "      <th></th>\n",
       "      <th></th>\n",
       "      <th></th>\n",
       "      <th></th>\n",
       "      <th></th>\n",
       "      <th></th>\n",
       "      <th></th>\n",
       "      <th></th>\n",
       "      <th></th>\n",
       "    </tr>\n",
       "  </thead>\n",
       "  <tbody>\n",
       "    <tr>\n",
       "      <th>0RYDPGXliFYXfRgs4mj7Ka</th>\n",
       "      <td>0.598</td>\n",
       "      <td>0.399</td>\n",
       "      <td>1.0</td>\n",
       "      <td>-7.142</td>\n",
       "      <td>1.0</td>\n",
       "      <td>0.0593</td>\n",
       "      <td>0.79</td>\n",
       "      <td>0.000003</td>\n",
       "      <td>0.109</td>\n",
       "      <td>0.699</td>\n",
       "      <td>203.94</td>\n",
       "      <td>4.0</td>\n",
       "    </tr>\n",
       "  </tbody>\n",
       "</table>\n",
       "</div>"
      ],
      "text/plain": [
       "                        danceability  energy  key  loudness  mode  \\\n",
       "id                                                                  \n",
       "0RYDPGXliFYXfRgs4mj7Ka         0.598   0.399  1.0    -7.142   1.0   \n",
       "\n",
       "                        speechiness  acousticness  instrumentalness  liveness  \\\n",
       "id                                                                              \n",
       "0RYDPGXliFYXfRgs4mj7Ka       0.0593          0.79          0.000003     0.109   \n",
       "\n",
       "                        valence   tempo  time_signature  \n",
       "id                                                       \n",
       "0RYDPGXliFYXfRgs4mj7Ka    0.699  203.94             4.0  "
      ]
     },
     "execution_count": 293,
     "metadata": {},
     "output_type": "execute_result"
    }
   ],
   "source": [
    "playlist='2VSX8asoMmFJkOfybpgLsz'\n",
    "df_features= playlist_features(playlist)\n",
    "df_features.drop(['type','uri','track_href','analysis_url','duration_ms'], axis = 'columns', inplace=True)\n",
    "df_features.set_index('id', inplace = True)\n",
    "df_features=df_features.astype('float64')\n",
    "df_features"
   ]
  },
  {
   "cell_type": "code",
   "execution_count": 294,
   "id": "fc19698e",
   "metadata": {},
   "outputs": [],
   "source": [
    "data_songs=pd.read_csv('datasets/data_songs_clean.csv').set_index('id', drop=True)"
   ]
  },
  {
   "cell_type": "code",
   "execution_count": 295,
   "id": "36501048",
   "metadata": {},
   "outputs": [],
   "source": [
    "#Eliminar las canciones elegidas como muestra del df global.\n",
    "for song in df_features.index:\n",
    "    data_songs=data_songs.drop(index=song)"
   ]
  },
  {
   "cell_type": "code",
   "execution_count": 296,
   "id": "8ed31028",
   "metadata": {},
   "outputs": [],
   "source": [
    "#Concateno\n",
    "\n",
    "frames = [data_songs, df_features]\n",
    "\n",
    "#concatenate dataframes\n",
    "df_mix = pd.concat(frames, sort=False)"
   ]
  },
  {
   "cell_type": "code",
   "execution_count": 297,
   "id": "bd93f9fb",
   "metadata": {},
   "outputs": [],
   "source": [
    "#Elimino los nulos.\n",
    "df_mix.dropna(inplace=True)"
   ]
  },
  {
   "cell_type": "code",
   "execution_count": 298,
   "id": "f48d61e3",
   "metadata": {},
   "outputs": [],
   "source": [
    "#Extraigo solo las features\n",
    "df_mix_values= df_mix.iloc[:,1:].values"
   ]
  },
  {
   "cell_type": "code",
   "execution_count": 299,
   "id": "ae4d000b",
   "metadata": {},
   "outputs": [],
   "source": [
    "#Extandarizo los df. Media 0 y desviación típica 1\n",
    "scaler = StandardScaler()\n",
    "df_mix_scaled = scaler.fit_transform(df_mix_values)"
   ]
  },
  {
   "cell_type": "code",
   "execution_count": 300,
   "id": "f83a544e",
   "metadata": {},
   "outputs": [],
   "source": [
    "#Normalización:\n",
    "\n",
    "#Calculo la magnitud del Vector para normalizar el vector.\n",
    "data_songs_mag = np.sqrt((df_mix_scaled*df_mix_scaled).sum(axis=1))\n",
    "\n",
    "ndata_song=df_mix_scaled.shape[0]\n",
    "normalized_data_songs=df_mix_scaled/data_songs_mag.reshape(ndata_song,1)"
   ]
  },
  {
   "cell_type": "code",
   "execution_count": 301,
   "id": "a9808bfb",
   "metadata": {},
   "outputs": [],
   "source": [
    "#normalized_data_songs_df = pd.DataFrame(normalized_data_songs)\n",
    "#normalized_data_songs_df.dropna(inplace=True)\n",
    "#normalized_data_songs = normalized_data_songs_df.to_numpy()"
   ]
  },
  {
   "cell_type": "code",
   "execution_count": 302,
   "id": "98e95760",
   "metadata": {},
   "outputs": [
    {
     "data": {
      "text/plain": [
       "(6958, 1)"
      ]
     },
     "execution_count": 302,
     "metadata": {},
     "output_type": "execute_result"
    }
   ],
   "source": [
    "cos_sim = linear_kernel(normalized_data_songs,normalized_data_songs[-1:])\n",
    "cos_sim.shape"
   ]
  },
  {
   "cell_type": "code",
   "execution_count": 303,
   "id": "9c349136",
   "metadata": {},
   "outputs": [
    {
     "name": "stdout",
     "output_type": "stream",
     "text": [
      "0.44930523336680017\n"
     ]
    }
   ],
   "source": [
    "print(cos_sim[2,0])"
   ]
  },
  {
   "cell_type": "code",
   "execution_count": 304,
   "id": "5a455612",
   "metadata": {},
   "outputs": [],
   "source": [
    "cos_sim_df = pd.DataFrame(cos_sim)"
   ]
  },
  {
   "cell_type": "code",
   "execution_count": 305,
   "id": "6d12b95e",
   "metadata": {},
   "outputs": [],
   "source": [
    "songs_ponderate = pd.concat([df_mix.reset_index(), cos_sim_df], axis=1)"
   ]
  },
  {
   "cell_type": "code",
   "execution_count": 306,
   "id": "3743503e",
   "metadata": {},
   "outputs": [
    {
     "data": {
      "text/plain": [
       "Index([              'id',     'danceability',           'energy',\n",
       "                    'key',         'loudness',             'mode',\n",
       "            'speechiness',     'acousticness', 'instrumentalness',\n",
       "               'liveness',          'valence',            'tempo',\n",
       "         'time_signature',                  0],\n",
       "      dtype='object')"
      ]
     },
     "execution_count": 306,
     "metadata": {},
     "output_type": "execute_result"
    }
   ],
   "source": [
    "songs_ponderate.columns"
   ]
  },
  {
   "cell_type": "code",
   "execution_count": 307,
   "id": "456cc37c",
   "metadata": {},
   "outputs": [
    {
     "data": {
      "text/html": [
       "<div>\n",
       "<style scoped>\n",
       "    .dataframe tbody tr th:only-of-type {\n",
       "        vertical-align: middle;\n",
       "    }\n",
       "\n",
       "    .dataframe tbody tr th {\n",
       "        vertical-align: top;\n",
       "    }\n",
       "\n",
       "    .dataframe thead th {\n",
       "        text-align: right;\n",
       "    }\n",
       "</style>\n",
       "<table border=\"1\" class=\"dataframe\">\n",
       "  <thead>\n",
       "    <tr style=\"text-align: right;\">\n",
       "      <th></th>\n",
       "      <th>id</th>\n",
       "      <th>danceability</th>\n",
       "      <th>energy</th>\n",
       "      <th>key</th>\n",
       "      <th>loudness</th>\n",
       "      <th>mode</th>\n",
       "      <th>speechiness</th>\n",
       "      <th>acousticness</th>\n",
       "      <th>instrumentalness</th>\n",
       "      <th>liveness</th>\n",
       "      <th>valence</th>\n",
       "      <th>tempo</th>\n",
       "      <th>time_signature</th>\n",
       "      <th>0</th>\n",
       "    </tr>\n",
       "  </thead>\n",
       "  <tbody>\n",
       "    <tr>\n",
       "      <th>6957</th>\n",
       "      <td>0RYDPGXliFYXfRgs4mj7Ka</td>\n",
       "      <td>0.598</td>\n",
       "      <td>0.399</td>\n",
       "      <td>1.0</td>\n",
       "      <td>-7.142</td>\n",
       "      <td>1.0</td>\n",
       "      <td>0.0593</td>\n",
       "      <td>0.79000</td>\n",
       "      <td>0.000003</td>\n",
       "      <td>0.1090</td>\n",
       "      <td>0.699</td>\n",
       "      <td>203.940</td>\n",
       "      <td>4.0</td>\n",
       "      <td>1.000000</td>\n",
       "    </tr>\n",
       "    <tr>\n",
       "      <th>2646</th>\n",
       "      <td>50uGbeaQIxKiSc7jvRTjWx</td>\n",
       "      <td>0.484</td>\n",
       "      <td>0.312</td>\n",
       "      <td>2.0</td>\n",
       "      <td>-13.522</td>\n",
       "      <td>1.0</td>\n",
       "      <td>0.0535</td>\n",
       "      <td>0.72400</td>\n",
       "      <td>0.000002</td>\n",
       "      <td>0.0601</td>\n",
       "      <td>0.598</td>\n",
       "      <td>205.981</td>\n",
       "      <td>4.0</td>\n",
       "      <td>0.952150</td>\n",
       "    </tr>\n",
       "    <tr>\n",
       "      <th>3955</th>\n",
       "      <td>08cXy6KUizaAelYXtcew3w</td>\n",
       "      <td>0.388</td>\n",
       "      <td>0.595</td>\n",
       "      <td>1.0</td>\n",
       "      <td>-9.799</td>\n",
       "      <td>1.0</td>\n",
       "      <td>0.0325</td>\n",
       "      <td>0.66300</td>\n",
       "      <td>0.000056</td>\n",
       "      <td>0.1780</td>\n",
       "      <td>0.596</td>\n",
       "      <td>190.043</td>\n",
       "      <td>4.0</td>\n",
       "      <td>0.950702</td>\n",
       "    </tr>\n",
       "    <tr>\n",
       "      <th>2906</th>\n",
       "      <td>6XAcmxPbCfMzLBvjBd2G0H</td>\n",
       "      <td>0.430</td>\n",
       "      <td>0.558</td>\n",
       "      <td>1.0</td>\n",
       "      <td>-6.549</td>\n",
       "      <td>1.0</td>\n",
       "      <td>0.0844</td>\n",
       "      <td>0.53400</td>\n",
       "      <td>0.000507</td>\n",
       "      <td>0.0914</td>\n",
       "      <td>0.779</td>\n",
       "      <td>172.756</td>\n",
       "      <td>4.0</td>\n",
       "      <td>0.943347</td>\n",
       "    </tr>\n",
       "    <tr>\n",
       "      <th>5352</th>\n",
       "      <td>4SipDsIDlvpv37P41D7Ec3</td>\n",
       "      <td>0.640</td>\n",
       "      <td>0.612</td>\n",
       "      <td>0.0</td>\n",
       "      <td>-7.273</td>\n",
       "      <td>1.0</td>\n",
       "      <td>0.0370</td>\n",
       "      <td>0.67500</td>\n",
       "      <td>0.000357</td>\n",
       "      <td>0.0655</td>\n",
       "      <td>0.761</td>\n",
       "      <td>178.715</td>\n",
       "      <td>4.0</td>\n",
       "      <td>0.939466</td>\n",
       "    </tr>\n",
       "    <tr>\n",
       "      <th>...</th>\n",
       "      <td>...</td>\n",
       "      <td>...</td>\n",
       "      <td>...</td>\n",
       "      <td>...</td>\n",
       "      <td>...</td>\n",
       "      <td>...</td>\n",
       "      <td>...</td>\n",
       "      <td>...</td>\n",
       "      <td>...</td>\n",
       "      <td>...</td>\n",
       "      <td>...</td>\n",
       "      <td>...</td>\n",
       "      <td>...</td>\n",
       "      <td>...</td>\n",
       "    </tr>\n",
       "    <tr>\n",
       "      <th>2129</th>\n",
       "      <td>7ajdfpfW1h6cN7GMQ5Sver</td>\n",
       "      <td>0.641</td>\n",
       "      <td>0.730</td>\n",
       "      <td>7.0</td>\n",
       "      <td>-6.406</td>\n",
       "      <td>0.0</td>\n",
       "      <td>0.0650</td>\n",
       "      <td>0.01030</td>\n",
       "      <td>0.145000</td>\n",
       "      <td>0.4120</td>\n",
       "      <td>0.605</td>\n",
       "      <td>75.001</td>\n",
       "      <td>4.0</td>\n",
       "      <td>-0.754907</td>\n",
       "    </tr>\n",
       "    <tr>\n",
       "      <th>6685</th>\n",
       "      <td>4dF3KsznC2QkvlO54A7jr0</td>\n",
       "      <td>0.449</td>\n",
       "      <td>0.806</td>\n",
       "      <td>7.0</td>\n",
       "      <td>-4.738</td>\n",
       "      <td>0.0</td>\n",
       "      <td>0.0384</td>\n",
       "      <td>0.00336</td>\n",
       "      <td>0.000000</td>\n",
       "      <td>0.2030</td>\n",
       "      <td>0.326</td>\n",
       "      <td>77.504</td>\n",
       "      <td>4.0</td>\n",
       "      <td>-0.784846</td>\n",
       "    </tr>\n",
       "    <tr>\n",
       "      <th>4276</th>\n",
       "      <td>1vwUsp52io0AGQ5yv470IC</td>\n",
       "      <td>0.387</td>\n",
       "      <td>0.640</td>\n",
       "      <td>11.0</td>\n",
       "      <td>-5.817</td>\n",
       "      <td>0.0</td>\n",
       "      <td>0.0810</td>\n",
       "      <td>0.10700</td>\n",
       "      <td>0.000000</td>\n",
       "      <td>0.3190</td>\n",
       "      <td>0.617</td>\n",
       "      <td>59.989</td>\n",
       "      <td>4.0</td>\n",
       "      <td>-0.787356</td>\n",
       "    </tr>\n",
       "    <tr>\n",
       "      <th>4472</th>\n",
       "      <td>3jbT1Y5MoPwEIpZndDDwVq</td>\n",
       "      <td>0.734</td>\n",
       "      <td>0.836</td>\n",
       "      <td>10.0</td>\n",
       "      <td>-4.803</td>\n",
       "      <td>0.0</td>\n",
       "      <td>0.0735</td>\n",
       "      <td>0.01700</td>\n",
       "      <td>0.000016</td>\n",
       "      <td>0.1790</td>\n",
       "      <td>0.623</td>\n",
       "      <td>80.002</td>\n",
       "      <td>4.0</td>\n",
       "      <td>-0.787841</td>\n",
       "    </tr>\n",
       "    <tr>\n",
       "      <th>1947</th>\n",
       "      <td>3PqpLZTiiwJjYD1uSvQoCC</td>\n",
       "      <td>0.593</td>\n",
       "      <td>0.849</td>\n",
       "      <td>6.0</td>\n",
       "      <td>-5.727</td>\n",
       "      <td>0.0</td>\n",
       "      <td>0.0911</td>\n",
       "      <td>0.00950</td>\n",
       "      <td>0.000000</td>\n",
       "      <td>0.2340</td>\n",
       "      <td>0.646</td>\n",
       "      <td>75.021</td>\n",
       "      <td>4.0</td>\n",
       "      <td>-0.791658</td>\n",
       "    </tr>\n",
       "  </tbody>\n",
       "</table>\n",
       "<p>6958 rows × 14 columns</p>\n",
       "</div>"
      ],
      "text/plain": [
       "                          id  danceability  energy   key  loudness  mode  \\\n",
       "6957  0RYDPGXliFYXfRgs4mj7Ka         0.598   0.399   1.0    -7.142   1.0   \n",
       "2646  50uGbeaQIxKiSc7jvRTjWx         0.484   0.312   2.0   -13.522   1.0   \n",
       "3955  08cXy6KUizaAelYXtcew3w         0.388   0.595   1.0    -9.799   1.0   \n",
       "2906  6XAcmxPbCfMzLBvjBd2G0H         0.430   0.558   1.0    -6.549   1.0   \n",
       "5352  4SipDsIDlvpv37P41D7Ec3         0.640   0.612   0.0    -7.273   1.0   \n",
       "...                      ...           ...     ...   ...       ...   ...   \n",
       "2129  7ajdfpfW1h6cN7GMQ5Sver         0.641   0.730   7.0    -6.406   0.0   \n",
       "6685  4dF3KsznC2QkvlO54A7jr0         0.449   0.806   7.0    -4.738   0.0   \n",
       "4276  1vwUsp52io0AGQ5yv470IC         0.387   0.640  11.0    -5.817   0.0   \n",
       "4472  3jbT1Y5MoPwEIpZndDDwVq         0.734   0.836  10.0    -4.803   0.0   \n",
       "1947  3PqpLZTiiwJjYD1uSvQoCC         0.593   0.849   6.0    -5.727   0.0   \n",
       "\n",
       "      speechiness  acousticness  instrumentalness  liveness  valence    tempo  \\\n",
       "6957       0.0593       0.79000          0.000003    0.1090    0.699  203.940   \n",
       "2646       0.0535       0.72400          0.000002    0.0601    0.598  205.981   \n",
       "3955       0.0325       0.66300          0.000056    0.1780    0.596  190.043   \n",
       "2906       0.0844       0.53400          0.000507    0.0914    0.779  172.756   \n",
       "5352       0.0370       0.67500          0.000357    0.0655    0.761  178.715   \n",
       "...           ...           ...               ...       ...      ...      ...   \n",
       "2129       0.0650       0.01030          0.145000    0.4120    0.605   75.001   \n",
       "6685       0.0384       0.00336          0.000000    0.2030    0.326   77.504   \n",
       "4276       0.0810       0.10700          0.000000    0.3190    0.617   59.989   \n",
       "4472       0.0735       0.01700          0.000016    0.1790    0.623   80.002   \n",
       "1947       0.0911       0.00950          0.000000    0.2340    0.646   75.021   \n",
       "\n",
       "      time_signature         0  \n",
       "6957             4.0  1.000000  \n",
       "2646             4.0  0.952150  \n",
       "3955             4.0  0.950702  \n",
       "2906             4.0  0.943347  \n",
       "5352             4.0  0.939466  \n",
       "...              ...       ...  \n",
       "2129             4.0 -0.754907  \n",
       "6685             4.0 -0.784846  \n",
       "4276             4.0 -0.787356  \n",
       "4472             4.0 -0.787841  \n",
       "1947             4.0 -0.791658  \n",
       "\n",
       "[6958 rows x 14 columns]"
      ]
     },
     "execution_count": 307,
     "metadata": {},
     "output_type": "execute_result"
    }
   ],
   "source": [
    "songs_for_0 = songs_ponderate.sort_values(by=[0],ascending=False)\n",
    "\n",
    "songs_for_0 "
   ]
  },
  {
   "cell_type": "code",
   "execution_count": 308,
   "id": "bed1445b",
   "metadata": {},
   "outputs": [],
   "source": [
    "#songs_for_1 = songs_ponderate.sort_values(by=[1],ascending=False)\n",
    "\n",
    "#songs_for_1 "
   ]
  },
  {
   "cell_type": "code",
   "execution_count": 309,
   "id": "11aa660e",
   "metadata": {},
   "outputs": [],
   "source": [
    "best_tracks=songs_for_0['id'].head(50)"
   ]
  },
  {
   "cell_type": "code",
   "execution_count": 310,
   "id": "fe0895b5",
   "metadata": {},
   "outputs": [],
   "source": [
    "tracks = best_tracks.values.tolist()"
   ]
  },
  {
   "cell_type": "code",
   "execution_count": 311,
   "id": "4bf890ef",
   "metadata": {},
   "outputs": [],
   "source": [
    "tracks=[\"spotify:track:\" + a for a in tracks]"
   ]
  },
  {
   "cell_type": "code",
   "execution_count": 312,
   "id": "df720237",
   "metadata": {},
   "outputs": [
    {
     "data": {
      "text/plain": [
       "{'snapshot_id': 'Myw3NTQ1OWUzNWE3ZmRkNWJmYWY3Yzk1YjNjNTQwODg5YWU2ZWNlYjNi'}"
      ]
     },
     "execution_count": 312,
     "metadata": {},
     "output_type": "execute_result"
    }
   ],
   "source": [
    "sp.playlist_add_items(playlist_id=playlist, items=tracks, position=None)"
   ]
  }
 ],
 "metadata": {
  "interpreter": {
   "hash": "144b12141f4e6ac2399227e01fbc2f19c1ff424447c073c54087a54170300a8c"
  },
  "kernelspec": {
   "display_name": "Python [conda env:proj_final]",
   "language": "python",
   "name": "python3"
  },
  "language_info": {
   "codemirror_mode": {
    "name": "ipython",
    "version": 3
   },
   "file_extension": ".py",
   "mimetype": "text/x-python",
   "name": "python",
   "nbconvert_exporter": "python",
   "pygments_lexer": "ipython3",
   "version": "3.7.13"
  }
 },
 "nbformat": 4,
 "nbformat_minor": 5
}
